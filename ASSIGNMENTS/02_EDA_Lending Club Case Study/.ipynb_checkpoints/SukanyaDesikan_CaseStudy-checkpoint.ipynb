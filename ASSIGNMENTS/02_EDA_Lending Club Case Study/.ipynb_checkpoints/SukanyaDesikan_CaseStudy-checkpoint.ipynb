{
 "cells": [
  {
   "cell_type": "code",
   "execution_count": null,
   "metadata": {
    "collapsed": true
   },
   "outputs": [],
   "source": [
    "#Import libraries\n",
    "import pandas as pd\n",
    "import numpy as np\n",
    "from matplotlib import pyplot as plt\n",
    "import seaborn as sns\n",
    "%matplotlib inline"
   ]
  },
  {
   "cell_type": "code",
   "execution_count": null,
   "metadata": {},
   "outputs": [],
   "source": [
    "#Parse dates to remove warning at 47th column (next_payment.dt)\n",
    "df_loan=pd.read_csv('loan.csv',parse_dates=[47])\n",
    "df_loan.columns[47]"
   ]
  },
  {
   "cell_type": "code",
   "execution_count": null,
   "metadata": {},
   "outputs": [],
   "source": [
    "df_loan.info()"
   ]
  },
  {
   "cell_type": "code",
   "execution_count": null,
   "metadata": {},
   "outputs": [],
   "source": [
    "df_loan.head()"
   ]
  },
  {
   "cell_type": "code",
   "execution_count": null,
   "metadata": {},
   "outputs": [],
   "source": [
    "df_loan['id'].nunique()"
   ]
  },
  {
   "cell_type": "markdown",
   "metadata": {},
   "source": [
    "Data cleaning"
   ]
  },
  {
   "cell_type": "code",
   "execution_count": null,
   "metadata": {},
   "outputs": [],
   "source": [
    "## Remove loan behaviour columns\n",
    "\n",
    "# Define loan behaviour variables\n",
    "loan_behav_vars=['delinq_2yrs','earliest_cr_line','inq_last_6mths','open_acc','pub_rec','revol_bal','revol_util','total_acc','out_prncp',\n",
    "'out_prncp_inv','total_pymnt','total_pymnt_inv','total_rec_prncp','total_rec_int','total_rec_late_fee','recoveries',\n",
    "'collection_recovery_fee','last_pymnt_d','last_pymnt_amnt','last_credit_pull_d','application_type']\n",
    "\n",
    "# Remove the above variables from data set\n",
    "df_loan.drop(loan_behav_vars,axis=1,inplace=True)\n",
    "\n",
    "\n",
    "#check number of columns after removal-90 columns remain\n",
    "df_loan.shape"
   ]
  },
  {
   "cell_type": "code",
   "execution_count": null,
   "metadata": {},
   "outputs": [],
   "source": [
    "#Remove rows containing loan_status='current' \n",
    "df_loan.drop(df_loan[df_loan['loan_status']=='Current'].index,axis=0,inplace=True)\n",
    "\n",
    "df_loan.shape"
   ]
  },
  {
   "cell_type": "code",
   "execution_count": null,
   "metadata": {},
   "outputs": [],
   "source": [
    "#Remove columns with null values\n",
    "\n",
    "# Define function which returns % null values\n",
    "def perc_null_col (x):\n",
    "     return (x.isnull()|x.isin(['NA','na'])).sum()/df_loan.shape[0]\n",
    "    \n",
    "# Define function to return 1 for columns with only one value\n",
    "def one_val_col(x):\n",
    "    if x.value_counts().size==1:\n",
    "        return 1\n",
    "    else:\n",
    "        return 0    \n",
    "\n",
    "# Apply perc_null_col function to all columns\n",
    "df_data_clean=pd.DataFrame(df_loan.apply(perc_null_col,axis=0),columns=['perc_null'])\n",
    "\n",
    "\n",
    "#### COORECTION\n",
    "# perc_null --------  perc_null_col\n",
    "\n",
    "# Apply one_val_col function to all columns\n",
    "df_data_clean['flag_one_val']=df_loan.apply(one_val_col,axis=0)\n",
    "\n",
    "\n",
    "#List of columns to drop\n",
    "cols_drop=list(df_data_clean[(df_data_clean['perc_null']==1)|(df_data_clean['flag_one_val']==1)].index)\n",
    "\n",
    "# Drop columns where all values are null or only one value is present\n",
    "df_loan.drop(cols_drop,axis=1,inplace=True)\n",
    "\n",
    "#check number of columns after removal-27 columns remain\n",
    "df_loan.shape"
   ]
  },
  {
   "cell_type": "code",
   "execution_count": null,
   "metadata": {},
   "outputs": [],
   "source": [
    "df_loan.columns"
   ]
  },
  {
   "cell_type": "code",
   "execution_count": null,
   "metadata": {},
   "outputs": [],
   "source": [
    "df_loan['emp_title'].value_counts()"
   ]
  },
  {
   "cell_type": "code",
   "execution_count": null,
   "metadata": {},
   "outputs": [],
   "source": [
    "[df_loan.groupby(['purpose','title'])['id'].count().sort_values(ascending=False)]"
   ]
  },
  {
   "cell_type": "code",
   "execution_count": null,
   "metadata": {},
   "outputs": [],
   "source": [
    "# Convert all data types to required format\n",
    "df_loan['issue_d']=pd.to_datetime(df_loan['issue_d'],format='%b-%y')\n",
    "\n",
    "# Interest rate format\n",
    "df_loan['int_rate']=[float(i.replace(\"%\",\"\")) for i in df_loan['int_rate']]\n",
    "\n",
    "\n",
    "# funded_amnt_inv           38577 non-null float64\n",
    "# installment               38577 non-null float64\n",
    "# mths_since_last_delinq    13672 non-null float64\n",
    "# mths_since_last_record    2740 non-null float64\n",
    "# pub_rec_bankruptcies      37880 non-null float64\n",
    "\n",
    "#### COORECTION\n",
    "\n",
    "# Comments\n",
    "\n",
    "\n",
    "# To do remove irrelevant columns\n",
    "irrel_cols=['member_id','url']"
   ]
  },
  {
   "cell_type": "code",
   "execution_count": null,
   "metadata": {},
   "outputs": [],
   "source": [
    "df_loan.columns"
   ]
  },
  {
   "cell_type": "code",
   "execution_count": null,
   "metadata": {},
   "outputs": [],
   "source": [
    "df_loan.info()"
   ]
  },
  {
   "cell_type": "code",
   "execution_count": null,
   "metadata": {
    "collapsed": true
   },
   "outputs": [],
   "source": [
    "# Create flag for charged off columns\n",
    "df_loan['flag_default']=[1 if i=='Charged Off' else 0 for i in df_loan['loan_status']]\n",
    "\n",
    "#~15% default rates\n",
    "df_loan['flag_default'].sum()/df_loan.shape[0]\n",
    "\n",
    "# Create variables for issue year,month,day\n",
    "df_loan['issue_year']=df_loan['issue_d'].dt.year.astype(str)\n",
    "df_loan['issue_month']=df_loan['issue_d'].dt.month.astype(str)\n",
    "#df_loan['issue_day']=df_loan['issue_d'].dt.day.astype(str)\n",
    "\n",
    "\n",
    "# Bucket Variables\n",
    "loan_vars=['loan_amnt', 'funded_amnt', 'funded_amnt_inv','term','int_rate','installment','grade', 'sub_grade','purpose','verification_status','issue_year','issue_month','dti','flag_default']\n",
    "applicant_vars=['id','emp_title','emp_length','home_ownership','annual_inc','home_ownership','zip_code', 'addr_state','mths_since_last_delinq', 'mths_since_last_record','pub_rec_bankruptcies','loan_status']\n"
   ]
  },
  {
   "cell_type": "code",
   "execution_count": null,
   "metadata": {},
   "outputs": [],
   "source": [
    "df_loan.info()"
   ]
  },
  {
   "cell_type": "code",
   "execution_count": null,
   "metadata": {
    "collapsed": true
   },
   "outputs": [],
   "source": [
    "#Separate numeric and categorical variables\n",
    "df_vartype_loan_num=df_loan.loc[:,loan_vars].select_dtypes(include=['int64','float64'])\n",
    "df_vartype_loan_cat=pd.concat([df_loan.loc[:,loan_vars].select_dtypes(include=['object']),df_loan.loc[:,'flag_default']],axis=1)"
   ]
  },
  {
   "cell_type": "code",
   "execution_count": null,
   "metadata": {},
   "outputs": [],
   "source": [
    "df_vartype_loan_cat"
   ]
  },
  {
   "cell_type": "markdown",
   "metadata": {},
   "source": [
    "univariate analysis"
   ]
  },
  {
   "cell_type": "markdown",
   "metadata": {},
   "source": [
    "numeric variables"
   ]
  },
  {
   "cell_type": "code",
   "execution_count": null,
   "metadata": {},
   "outputs": [],
   "source": [
    "f, axes = plt.subplots(df_vartype_loan_num.shape[1]-1,1,figsize=(10,30))\n",
    "\n",
    "for i in range(df_vartype_loan_num.shape[1]-1):\n",
    "    sns.distplot(df_vartype_loan_num.iloc[:,i],hist=False,ax=axes[i])\n",
    "    df_vartype_loan_num.describe()"
   ]
  },
  {
   "cell_type": "code",
   "execution_count": null,
   "metadata": {},
   "outputs": [],
   "source": [
    "#to do - set x lables , y lables, titles\n",
    "f, axes = plt.subplots(df_vartype_loan_num.shape[1]-1,1,figsize=(10,30))\n",
    "for i in range(df_vartype_loan_num.shape[1]-1):\n",
    "    sns.boxplot(x=df_vartype_loan_num['flag_default'],y=df_vartype_loan_num.iloc[:,i],ax=axes[i])\n"
   ]
  },
  {
   "cell_type": "markdown",
   "metadata": {},
   "source": [
    "categorical variables"
   ]
  },
  {
   "cell_type": "code",
   "execution_count": null,
   "metadata": {},
   "outputs": [],
   "source": [
    "#to do - set x lables , y lables, titles,add annotation\n",
    "f, axes = plt.subplots(df_vartype_loan_cat.shape[1]-1,1,figsize=(25,30))\n",
    "for i in range(df_vartype_loan_cat.shape[1]-1):\n",
    "    var_desc_order=df_vartype_loan_cat.iloc[:,i].value_counts().sort_values(ascending=False)/df_vartype_loan_cat.shape[0]\n",
    "    #print(var_desc_order)\n",
    "    sns.barplot(x=var_desc_order.index,y=var_desc_order.values,ax=axes[i])"
   ]
  },
  {
   "cell_type": "code",
   "execution_count": null,
   "metadata": {},
   "outputs": [],
   "source": [
    "f, axes = plt.subplots(df_vartype_loan_cat.shape[1]-1,1,figsize=(25,30))\n",
    "for i in range(df_vartype_loan_cat.shape[1]-1):\n",
    "    var_desc_order=(df_vartype_loan_cat.iloc[(df_vartype_loan_cat['flag_default']==1).values,i].value_counts()/df_vartype_loan_cat.iloc[:,i].value_counts()).sort_values(ascending=False).index\n",
    "    sns.barplot(x=df_vartype_loan_cat.iloc[:,i],y=df_vartype_loan_cat['flag_default'],order=var_desc_order,ax=axes[i])    "
   ]
  },
  {
   "cell_type": "markdown",
   "metadata": {},
   "source": [
    "bivariate analysis"
   ]
  },
  {
   "cell_type": "code",
   "execution_count": null,
   "metadata": {},
   "outputs": [],
   "source": [
    "## No correlation with default?\n",
    "#To do remove flag_default\n",
    "f, axes = plt.subplots(1, 2,figsize=(15,6))\n",
    "corr_matrix_0= df_loan[df_loan['flag_default']==0].corr()\n",
    "corr_matrix_1= df_loan[df_loan['flag_default']==1].corr()\n",
    "mask_0 = np.triu(np.ones_like(corr_matrix_0, dtype=np.bool))\n",
    "mask_1=np.triu(np.ones_like(corr_matrix_1, dtype=np.bool))\n",
    "sns.heatmap(corr_matrix_0,mask=mask_1,annot=True,cmap=\"YlGnBu\",linewidths=0.5,ax=axes[0])\n",
    "sns.heatmap(corr_matrix_1,mask=mask_0,annot=True,cmap=\"YlGnBu\",linewidths=0.5,ax=axes[1])\n",
    "\n",
    "#### COORECTION\n",
    "\n",
    "# chaged df_loan_numeric to df_loan\n",
    "\n",
    "# mask=mask  ------------- mask=mask_1\n",
    "# mask=mask  ------------- mask=mask_0\n"
   ]
  },
  {
   "cell_type": "markdown",
   "metadata": {},
   "source": [
    "##### All Cells below these are exploratory"
   ]
  },
  {
   "cell_type": "markdown",
   "metadata": {},
   "source": [
    "binning of variables"
   ]
  },
  {
   "cell_type": "code",
   "execution_count": null,
   "metadata": {},
   "outputs": [],
   "source": [
    "pd.cut(df_loan['int_rate'], 3,labels=[\"low\", \"medium\", \"high\"]).value_counts()"
   ]
  },
  {
   "cell_type": "markdown",
   "metadata": {},
   "source": [
    "even low interest rate loans default in higher term"
   ]
  },
  {
   "cell_type": "code",
   "execution_count": null,
   "metadata": {},
   "outputs": [],
   "source": [
    "sns.barplot(x=df_loan['grade'],y=df_loan['flag_default'],hue=pd.cut(df_loan['int_rate'], 3,labels=[\"low\", \"medium\", \"high\"]))"
   ]
  },
  {
   "cell_type": "code",
   "execution_count": null,
   "metadata": {},
   "outputs": [],
   "source": [
    "sns.barplot(x=df_loan['term'],y=df_vartype_loan_cat['flag_default'],hue=pd.cut(df_loan['int_rate'], 3,labels=[\"low\", \"medium\", \"high\"]))"
   ]
  },
  {
   "cell_type": "code",
   "execution_count": null,
   "metadata": {},
   "outputs": [],
   "source": [
    "sns.barplot(x=df_loan['term'],y=df_vartype_loan_cat['flag_default'],hue=pd.cut(df_loan['loan_amnt'], 3,labels=[\"low\", \"medium\", \"high\"]))"
   ]
  },
  {
   "cell_type": "code",
   "execution_count": null,
   "metadata": {},
   "outputs": [],
   "source": [
    "sns.barplot(x=df_loan['grade'],y=df_vartype_loan_cat['flag_default'],hue=pd.cut(df_loan['int_rate'], 3,labels=[\"low\", \"medium\", \"high\"]))"
   ]
  },
  {
   "cell_type": "code",
   "execution_count": null,
   "metadata": {},
   "outputs": [],
   "source": [
    "sns.boxplot(x=df_loan['term'],y=df_loan['int_rate'])"
   ]
  },
  {
   "cell_type": "code",
   "execution_count": null,
   "metadata": {},
   "outputs": [],
   "source": [
    "sns.pairplot(df_loan)"
   ]
  },
  {
   "cell_type": "code",
   "execution_count": null,
   "metadata": {
    "collapsed": true
   },
   "outputs": [],
   "source": [
    "f, axes = plt.subplots(1, 2,figsize=(12,5))\n",
    "sns.boxplot(x=df_loan['flag_default'],y=df_loan['ratio_loan_income'],ax=axes[0])\n",
    "sns.boxplot(x=df_loan['flag_default'],y=df_loan['dti'],ax=axes[1])"
   ]
  },
  {
   "cell_type": "markdown",
   "metadata": {},
   "source": [
    "No relationship between income ,loan amt,funded amnt,funded amnt inv?Crosscheck"
   ]
  },
  {
   "cell_type": "markdown",
   "metadata": {},
   "source": [
    "dti ratio higher for defaults?"
   ]
  },
  {
   "cell_type": "code",
   "execution_count": null,
   "metadata": {
    "collapsed": true
   },
   "outputs": [],
   "source": [
    "df_loan['ratio_loan_income']=df_loan['loan_amnt']/df_loan['annual_inc']\n",
    "df_loan['ratio_install_income']=df_loan['installment']/df_loan['annual_inc']\n",
    "\n",
    "\n"
   ]
  },
  {
   "cell_type": "code",
   "execution_count": null,
   "metadata": {},
   "outputs": [],
   "source": [
    "f, axes = plt.subplots(1, 2,figsize=(12,5))\n",
    "sns.boxplot(x=df_loan['flag_default'],y=df_loan['ratio_loan_income'],ax=axes[0])\n",
    "sns.boxplot(x=df_loan['flag_default'],y=df_loan['dti'],ax=axes[1])\n"
   ]
  },
  {
   "cell_type": "code",
   "execution_count": null,
   "metadata": {},
   "outputs": [],
   "source": [
    "df_loan.loc[df_loan['flag_default']==0,'dti'].describe().astype(int)\n",
    "df_loan.loc[df_loan['flag_default']==1,'dti'].describe().astype(int)\n",
    "df_loan.loc[df_loan['ratio_loan_income']==0,'dti'].describe().astype(int)\n",
    "df_loan.loc[df_loan['ratio_loan_income']==1,'dti'].describe().astype(int)\n",
    "\n",
    "\n"
   ]
  },
  {
   "cell_type": "markdown",
   "metadata": {},
   "source": [
    "Credit history variables"
   ]
  },
  {
   "cell_type": "markdown",
   "metadata": {},
   "source": [
    "significant varibles:mths_since_last_record,'pub_rec_bankruptcies'\n",
    "variables to be deleted:acc_now_delinq,collections_12_mths_ex_med,next_pymnt_d,chargeoff_within_12_mths,delinq_amnt,tax_liens,policy_code,initial_list_status"
   ]
  },
  {
   "cell_type": "code",
   "execution_count": null,
   "metadata": {},
   "outputs": [],
   "source": [
    "df_loan.info()"
   ]
  },
  {
   "cell_type": "code",
   "execution_count": null,
   "metadata": {},
   "outputs": [],
   "source": [
    "sns.boxplot(x=df_loan['flag_default'],y=df_loan['mths_since_last_record'])"
   ]
  },
  {
   "cell_type": "code",
   "execution_count": null,
   "metadata": {},
   "outputs": [],
   "source": [
    "df_loan['initial_list_status'].value_counts()"
   ]
  },
  {
   "cell_type": "markdown",
   "metadata": {},
   "source": [
    "'pub_rec_bankruptcies'"
   ]
  },
  {
   "cell_type": "code",
   "execution_count": null,
   "metadata": {},
   "outputs": [],
   "source": [
    "pd.crosstab(df_loan['pub_rec_bankruptcies'],df_loan['flag_default'])*100/df_loan['flag_default'].value_counts()"
   ]
  },
  {
   "cell_type": "markdown",
   "metadata": {},
   "source": [
    "issue date"
   ]
  },
  {
   "cell_type": "code",
   "execution_count": null,
   "metadata": {
    "collapsed": true
   },
   "outputs": [],
   "source": [
    "df_loan['year_issue']=df_loan['issue_date_conv'].dt.year\n",
    "df_loan['month_issue']=df_loan['issue_date_conv'].dt.month\n",
    "df_loan['day_issue']=df_loan['issue_date_conv'].dt.day\n",
    "\n",
    "\n"
   ]
  },
  {
   "cell_type": "markdown",
   "metadata": {},
   "source": [
    "year_issue"
   ]
  },
  {
   "cell_type": "code",
   "execution_count": null,
   "metadata": {},
   "outputs": [],
   "source": [
    "df_loan.loc[df_loan['flag_default']==1].groupby('year_issue')['id'].count()/df_loan.groupby('year_issue')['id'].count()"
   ]
  },
  {
   "cell_type": "markdown",
   "metadata": {},
   "source": [
    "month_issue"
   ]
  },
  {
   "cell_type": "code",
   "execution_count": null,
   "metadata": {},
   "outputs": [],
   "source": [
    "sns.barplot(x=df_loan['year_issue'],y=df_loan['flag_default'])"
   ]
  },
  {
   "cell_type": "code",
   "execution_count": null,
   "metadata": {},
   "outputs": [],
   "source": [
    "plt.figure(figsize=(16, 6))\n",
    "g=sns.barplot(x=df_loan['month_issue'],y=df_loan['flag_default'],hue=df_loan['year_issue'])\n"
   ]
  },
  {
   "cell_type": "code",
   "execution_count": null,
   "metadata": {},
   "outputs": [],
   "source": [
    "plt.figure(figsize=(16, 6))\n",
    "g=sns.barplot(x=df_loan['policy_code'],y=df_loan['flag_default'])"
   ]
  },
  {
   "cell_type": "code",
   "execution_count": null,
   "metadata": {},
   "outputs": [],
   "source": [
    "df_loan.loc[df_loan['flag_default']==1].groupby(['month_issue'])['id'].count()/df_loan.groupby(['month_issue'])['id'].count()"
   ]
  },
  {
   "cell_type": "code",
   "execution_count": null,
   "metadata": {},
   "outputs": [],
   "source": [
    "df_loan.loc[df_loan['flag_default']==1].groupby(['day_issue'])['id'].count()/df_loan.groupby(['day_issue'])['id'].count()"
   ]
  },
  {
   "cell_type": "code",
   "execution_count": null,
   "metadata": {},
   "outputs": [],
   "source": [
    "df_loan.info()"
   ]
  },
  {
   "cell_type": "markdown",
   "metadata": {},
   "source": [
    "Borrower Assesment-Interest Rate"
   ]
  },
  {
   "cell_type": "markdown",
   "metadata": {},
   "source": [
    "move this to data cleaning section"
   ]
  },
  {
   "cell_type": "code",
   "execution_count": null,
   "metadata": {
    "collapsed": true
   },
   "outputs": [],
   "source": [
    "df_loan['int_rate']=[float(i.replace(\"%\",\"\")) for i in df_loan['int_rate']]"
   ]
  },
  {
   "cell_type": "code",
   "execution_count": null,
   "metadata": {},
   "outputs": [],
   "source": [
    "type(df_loan['int_rate'])"
   ]
  },
  {
   "cell_type": "code",
   "execution_count": null,
   "metadata": {},
   "outputs": [],
   "source": [
    "df_loan['int_rate'].shape"
   ]
  },
  {
   "cell_type": "code",
   "execution_count": null,
   "metadata": {},
   "outputs": [],
   "source": [
    "sns.boxplot(x=df_loan['flag_default'],y=df_loan['int_rate'])"
   ]
  },
  {
   "cell_type": "code",
   "execution_count": null,
   "metadata": {},
   "outputs": [],
   "source": [
    "sns.boxplot(x=df_loan['flag_default'],y=df_loan['installment'])"
   ]
  },
  {
   "cell_type": "code",
   "execution_count": null,
   "metadata": {},
   "outputs": [],
   "source": [
    "plt.figure(figsize=(16, 6))\n",
    "sns.barplot(x=df_loan['emp_length'],y=df_loan['flag_default'])"
   ]
  },
  {
   "cell_type": "code",
   "execution_count": null,
   "metadata": {},
   "outputs": [],
   "source": [
    "plt.figure(figsize=(30, 6))\n",
    "sns.barplot(x=df_loan['purpose'],y=df_loan['flag_default'])"
   ]
  },
  {
   "cell_type": "code",
   "execution_count": null,
   "metadata": {},
   "outputs": [],
   "source": [
    "plt.figure(figsize=(10, 6))\n",
    "sns.barplot(x=df_loan['home_ownership'],y=df_loan['flag_default'])"
   ]
  },
  {
   "cell_type": "code",
   "execution_count": null,
   "metadata": {},
   "outputs": [],
   "source": [
    "df_loan['flag_default'].value_counts().size"
   ]
  },
  {
   "cell_type": "code",
   "execution_count": null,
   "metadata": {
    "collapsed": true
   },
   "outputs": [],
   "source": []
  }
 ],
 "metadata": {
  "kernelspec": {
   "display_name": "Python 3",
   "language": "python",
   "name": "python3"
  },
  "language_info": {
   "codemirror_mode": {
    "name": "ipython",
    "version": 3
   },
   "file_extension": ".py",
   "mimetype": "text/x-python",
   "name": "python",
   "nbconvert_exporter": "python",
   "pygments_lexer": "ipython3",
   "version": "3.6.3"
  }
 },
 "nbformat": 4,
 "nbformat_minor": 2
}
